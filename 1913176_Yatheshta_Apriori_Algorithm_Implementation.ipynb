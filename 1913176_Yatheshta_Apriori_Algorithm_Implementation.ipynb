{
 "cells": [
  {
   "cell_type": "code",
   "execution_count": 75,
   "id": "3d7ca169",
   "metadata": {},
   "outputs": [],
   "source": [
    "import pandas as pd\n",
    "import math\n",
    "import numpy as np\n"
   ]
  },
  {
   "cell_type": "code",
   "execution_count": 76,
   "id": "491e7766",
   "metadata": {},
   "outputs": [
    {
     "data": {
      "text/html": [
       "<div>\n",
       "<style scoped>\n",
       "    .dataframe tbody tr th:only-of-type {\n",
       "        vertical-align: middle;\n",
       "    }\n",
       "\n",
       "    .dataframe tbody tr th {\n",
       "        vertical-align: top;\n",
       "    }\n",
       "\n",
       "    .dataframe thead th {\n",
       "        text-align: right;\n",
       "    }\n",
       "</style>\n",
       "<table border=\"1\" class=\"dataframe\">\n",
       "  <thead>\n",
       "    <tr style=\"text-align: right;\">\n",
       "      <th></th>\n",
       "      <th>items</th>\n",
       "    </tr>\n",
       "  </thead>\n",
       "  <tbody>\n",
       "    <tr>\n",
       "      <th>0</th>\n",
       "      <td>A,B,C,D</td>\n",
       "    </tr>\n",
       "    <tr>\n",
       "      <th>1</th>\n",
       "      <td>A,B,E</td>\n",
       "    </tr>\n",
       "    <tr>\n",
       "      <th>2</th>\n",
       "      <td>A,E,F,C</td>\n",
       "    </tr>\n",
       "    <tr>\n",
       "      <th>3</th>\n",
       "      <td>A,Z,Y,B</td>\n",
       "    </tr>\n",
       "  </tbody>\n",
       "</table>\n",
       "</div>"
      ],
      "text/plain": [
       "     items\n",
       "0  A,B,C,D\n",
       "1    A,B,E\n",
       "2  A,E,F,C\n",
       "3  A,Z,Y,B"
      ]
     },
     "execution_count": 76,
     "metadata": {},
     "output_type": "execute_result"
    }
   ],
   "source": [
    "\n",
    "transactions_df = pd.read_csv('Cust.csv')\n",
    "transactions_df"
   ]
  },
  {
   "cell_type": "code",
   "execution_count": 70,
   "id": "095b13a9",
   "metadata": {},
   "outputs": [],
   "source": [
    "transactions_df.index.rename('ID', inplace=True)\n",
    "transactions_df.rename(columns={'items' : 'item_list'}, inplace=True)"
   ]
  },
  {
   "cell_type": "code",
   "execution_count": 71,
   "id": "ab49dca5",
   "metadata": {},
   "outputs": [
    {
     "data": {
      "text/plain": [
       "ID\n",
       "0    [A, B, C, D]\n",
       "1       [A, B, E]\n",
       "2    [A, E, F, C]\n",
       "3    [A, Z, Y, B]\n",
       "Name: item_list, dtype: object"
      ]
     },
     "execution_count": 71,
     "metadata": {},
     "output_type": "execute_result"
    }
   ],
   "source": [
    "trans_df = transactions_df.item_list.str.split(',')\n",
    "trans_df"
   ]
  },
  {
   "cell_type": "code",
   "execution_count": 72,
   "id": "c78ffce4",
   "metadata": {},
   "outputs": [],
   "source": [
    "def prune(data,support_val):\n",
    "    \n",
    "    df = data[data.support >= support_val] \n",
    "    return df\n",
    "    \n",
    "def count_itemset(transactions_df, itemsets):\n",
    "    \n",
    "    count = {}\n",
    "    for item_set in itemsets:\n",
    "        set_A = set(item_set)\n",
    "        for row in trans_df:\n",
    "            set_B = set(row)\n",
    "        \n",
    "            if set_B.intersection(set_A) == set_A: \n",
    "                if item_set in count.keys():\n",
    "                    count[item_set] += 1\n",
    "                \n",
    "                else:\n",
    "                    count[item_set] = 1\n",
    "                \n",
    "    data = pd.DataFrame()\n",
    "    data['item_sets'] = count.keys()\n",
    "    data['support'] = count.values()\n",
    "    \n",
    "    return data\n",
    "\n",
    "def count_item(items):\n",
    "    \n",
    "    count_item_ind = {}\n",
    "    for row in items:\n",
    "        for i in range(len(row)):\n",
    "            if row[i] in count_item_ind.keys():\n",
    "                count_item_ind[row[i]] += 1\n",
    "            else:\n",
    "                count_item_ind[row[i]] = 1\n",
    "    \n",
    "    data = pd.DataFrame()\n",
    "    data['item_sets'] = count_item_ind.keys()\n",
    "    data['support'] = count_item_ind.values()\n",
    "    data = data.sort_values('item_sets')\n",
    "    return data\n",
    "\n",
    "\n",
    "def join(list_of_items):\n",
    "    itemsets = []\n",
    "    i = 1\n",
    "    for entry in list_of_items:\n",
    "        proceeding_items = list_of_items[i:]\n",
    "        for item in proceeding_items:\n",
    "            if(type(item) is str):\n",
    "                if entry != item:\n",
    "                    tuples = (entry, item)\n",
    "                    itemsets.append(tuples)\n",
    "            else:\n",
    "                if entry[0:-1] == item[0:-1]:\n",
    "                    tuples = entry+item[1:]\n",
    "                    itemsets.append(tuples)\n",
    "        i = i+1\n",
    "    if(len(itemsets) == 0):\n",
    "        return None\n",
    "    return itemsets"
   ]
  },
  {
   "cell_type": "code",
   "execution_count": 73,
   "id": "b95fa900",
   "metadata": {},
   "outputs": [],
   "source": [
    "def apriori(t_data,supp):\n",
    "    freq = pd.DataFrame()\n",
    "    \n",
    "    df = count_item(t_data)\n",
    "   \n",
    "    while(len(df) != 0):\n",
    "        \n",
    "        df = prune(df, supp)\n",
    "    \n",
    "        if len(df) > 1 or (len(df) == 1 and int(df.support >= supp)):\n",
    "            freq = df\n",
    "        \n",
    "        itemsets = join(df.item_sets)\n",
    "    \n",
    "        if(itemsets is None):\n",
    "            return freq\n",
    "    \n",
    "        df = count_itemset(t_data, itemsets)\n",
    "    return df\n"
   ]
  },
  {
   "cell_type": "code",
   "execution_count": 74,
   "id": "3d1f63a1",
   "metadata": {},
   "outputs": [
    {
     "data": {
      "text/html": [
       "<div>\n",
       "<style scoped>\n",
       "    .dataframe tbody tr th:only-of-type {\n",
       "        vertical-align: middle;\n",
       "    }\n",
       "\n",
       "    .dataframe tbody tr th {\n",
       "        vertical-align: top;\n",
       "    }\n",
       "\n",
       "    .dataframe thead th {\n",
       "        text-align: right;\n",
       "    }\n",
       "</style>\n",
       "<table border=\"1\" class=\"dataframe\">\n",
       "  <thead>\n",
       "    <tr style=\"text-align: right;\">\n",
       "      <th></th>\n",
       "      <th>item_sets</th>\n",
       "      <th>support</th>\n",
       "    </tr>\n",
       "  </thead>\n",
       "  <tbody>\n",
       "    <tr>\n",
       "      <th>0</th>\n",
       "      <td>(A, B)</td>\n",
       "      <td>3</td>\n",
       "    </tr>\n",
       "    <tr>\n",
       "      <th>1</th>\n",
       "      <td>(A, C)</td>\n",
       "      <td>2</td>\n",
       "    </tr>\n",
       "    <tr>\n",
       "      <th>2</th>\n",
       "      <td>(A, E)</td>\n",
       "      <td>2</td>\n",
       "    </tr>\n",
       "  </tbody>\n",
       "</table>\n",
       "</div>"
      ],
      "text/plain": [
       "  item_sets  support\n",
       "0    (A, B)        3\n",
       "1    (A, C)        2\n",
       "2    (A, E)        2"
      ]
     },
     "execution_count": 74,
     "metadata": {},
     "output_type": "execute_result"
    }
   ],
   "source": [
    "freq_item_sets = apriori(trans_df, 2)\n",
    "freq_item_sets"
   ]
  },
  {
   "cell_type": "code",
   "execution_count": null,
   "id": "181ec70a",
   "metadata": {},
   "outputs": [],
   "source": []
  }
 ],
 "metadata": {
  "kernelspec": {
   "display_name": "Python 3 (ipykernel)",
   "language": "python",
   "name": "python3"
  },
  "language_info": {
   "codemirror_mode": {
    "name": "ipython",
    "version": 3
   },
   "file_extension": ".py",
   "mimetype": "text/x-python",
   "name": "python",
   "nbconvert_exporter": "python",
   "pygments_lexer": "ipython3",
   "version": "3.9.7"
  }
 },
 "nbformat": 4,
 "nbformat_minor": 5
}
